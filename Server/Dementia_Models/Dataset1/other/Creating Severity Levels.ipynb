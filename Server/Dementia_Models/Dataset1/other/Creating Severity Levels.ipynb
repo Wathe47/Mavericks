{
 "cells": [
  {
   "cell_type": "markdown",
   "metadata": {},
   "source": [
    "<h1><center>Creating Severity Levels </center></h1>"
   ]
  },
  {
   "cell_type": "code",
   "execution_count": 2,
   "metadata": {},
   "outputs": [
    {
     "name": "stderr",
     "output_type": "stream",
     "text": [
      "/home/wathsalya/.local/lib/python3.10/site-packages/tqdm/auto.py:21: TqdmWarning: IProgress not found. Please update jupyter and ipywidgets. See https://ipywidgets.readthedocs.io/en/stable/user_install.html\n",
      "  from .autonotebook import tqdm as notebook_tqdm\n"
     ]
    },
    {
     "name": "stdout",
     "output_type": "stream",
     "text": [
      "Defaulting to user installation because normal site-packages is not writeable\n",
      "Requirement already satisfied: tabulate in /home/wathsalya/.local/lib/python3.10/site-packages (0.9.0)\n"
     ]
    }
   ],
   "source": [
    "import pandas as pd\n",
    "from sklearn.preprocessing import StandardScaler\n",
    "from sklearn.cluster import KMeans\n",
    "from sklearn.ensemble import RandomForestClassifier\n",
    "from sklearn.model_selection import train_test_split\n",
    "from sklearn.metrics import classification_report, f1_score, precision_score, recall_score, roc_auc_score\n",
    "import shap\n",
    "from xgboost import XGBClassifier\n",
    "from sklearn.model_selection import cross_val_score\n",
    "from sklearn.ensemble import GradientBoostingClassifier\n",
    "from sklearn.linear_model import LogisticRegression\n",
    "from sklearn.tree import DecisionTreeClassifier\n",
    "from sklearn.neighbors import KNeighborsClassifier\n",
    "from sklearn.svm import SVC\n",
    "from sklearn.neural_network import MLPClassifier\n",
    "from sklearn.metrics import silhouette_score\n",
    "from imblearn.under_sampling import RandomUnderSampler\n",
    "from imblearn.over_sampling import RandomOverSampler\n",
    "from imblearn.over_sampling import SMOTE\n",
    "from imblearn.combine import SMOTEENN\n",
    "from sklearn.metrics import confusion_matrix\n",
    "from imblearn.pipeline import Pipeline\n",
    "from sklearn.metrics import accuracy_score\n",
    "import subprocess\n",
    "subprocess.check_call([\"pip\", \"install\", \"tabulate\"])\n",
    "from tabulate import tabulate"
   ]
  },
  {
   "cell_type": "code",
   "execution_count": 3,
   "metadata": {},
   "outputs": [],
   "source": [
    "# Load data\n",
    "data = pd.read_csv(\"dementia_dataset_1.csv\")\n",
    "\n",
    "# drop unnecessary columns\n",
    "data.drop([\"PatientID\",\"DoctorInCharge\"], axis=1, inplace=True)\n"
   ]
  },
  {
   "cell_type": "markdown",
   "metadata": {},
   "source": [
    "### Preprocessing"
   ]
  },
  {
   "cell_type": "code",
   "execution_count": 4,
   "metadata": {},
   "outputs": [],
   "source": [
    "# Identify numerical features: features with more than 5 unique values are considered numerical\n",
    "num_cols = [\n",
    "    col for col in data.columns if col != \"Diagnosis\" and data[col].nunique() > 5\n",
    "]\n",
    "\n",
    "# Identify categorical features: features that are not numerical and not 'Diagnosis'\n",
    "cat_cols = data.columns.difference(num_cols).difference([\"Diagnosis\"]).to_list()\n"
   ]
  },
  {
   "cell_type": "code",
   "execution_count": 5,
   "metadata": {},
   "outputs": [
    {
     "data": {
      "text/plain": [
       "0    21.463532\n",
       "1    20.613267\n",
       "2     7.356249\n",
       "3    13.991127\n",
       "4    13.517609\n",
       "Name: MMSE, dtype: float64"
      ]
     },
     "execution_count": 5,
     "metadata": {},
     "output_type": "execute_result"
    }
   ],
   "source": [
    "data['MMSE'].head()"
   ]
  },
  {
   "cell_type": "markdown",
   "metadata": {},
   "source": [
    "### Clustering Function"
   ]
  },
  {
   "cell_type": "code",
   "execution_count": 6,
   "metadata": {},
   "outputs": [],
   "source": [
    "def process_cluster( data, cluster_features, target_column=\"Diagnosis\", n_clusters=3):\n",
    "\n",
    "    # Create a copy of the data\n",
    "    data_clustering = data.copy()\n",
    "\n",
    "    # Cluster ONLY dementia patients\n",
    "    dementia_mask = data_clustering[target_column] == 1\n",
    "    kmeans = KMeans(n_clusters=n_clusters, random_state=42)\n",
    "    clusters = kmeans.fit_predict(data_clustering[dementia_mask][cluster_features])\n",
    "\n",
    "    # Order clusters by MMSE (clinical relevance)\n",
    "    cluster_order = (\n",
    "        data_clustering[dementia_mask]\n",
    "        .groupby(clusters)[\"MMSE\"]\n",
    "        .mean()\n",
    "        .sort_values(ascending=False)\n",
    "        .index\n",
    "    )\n",
    "\n",
    "    # Print MMSE mean of each cluster\n",
    "    mmse_means = (\n",
    "        data_clustering[dementia_mask]\n",
    "        .groupby(clusters)[\"MMSE\"]\n",
    "        .mean()\n",
    "        .sort_values(ascending=False)\n",
    "    )\n",
    "    print(\"MMSE mean of each cluster:\")\n",
    "    print(mmse_means, \"\\n\")\n",
    "\n",
    "    severity_mapping = {cluster_order[0]: 1, cluster_order[1]: 2, cluster_order[2]: 3}\n",
    "\n",
    "    # Update target variable\n",
    "    y = data_clustering[target_column].copy()\n",
    "    y[dementia_mask] = [severity_mapping[c] for c in clusters]\n",
    "    \n",
    "    # Update the clustered data with the new severity levels\n",
    "    data_clustering[\"Severity\"] = y\n",
    "\n",
    "    # Drop the Diagnosis column\n",
    "    data_clustering.drop(columns=[target_column], inplace=True)\n",
    "\n",
    "    # Calculate silhouette score\n",
    "    silhouette_avg = silhouette_score(\n",
    "        data_clustering[dementia_mask][cluster_features], clusters\n",
    "    )\n",
    "        \n",
    "    return {\n",
    "       \"clustered_data\": data_clustering,\n",
    "       \"silhouette_score\": silhouette_avg\n",
    "    }"
   ]
  },
  {
   "cell_type": "markdown",
   "metadata": {},
   "source": [
    "### Testing Various Clusters"
   ]
  },
  {
   "cell_type": "code",
   "execution_count": 7,
   "metadata": {},
   "outputs": [
    {
     "name": "stdout",
     "output_type": "stream",
     "text": [
      "MMSE mean of each cluster:\n",
      "1    12.626733\n",
      "2    11.981645\n",
      "0    11.407447\n",
      "Name: MMSE, dtype: float64 \n",
      "\n",
      "Silhouette Score: 0.25946257194807976\n"
     ]
    }
   ],
   "source": [
    "# Filter features to exclude 'diagnose'\n",
    "cluster_features = [col for col in data.columns if col != \"Diagnosis\"]\n",
    "\n",
    "# Process clustering\n",
    "clustered_data = process_cluster(data, cluster_features)\n",
    "\n",
    "# Access results\n",
    "print(\"Silhouette Score:\", clustered_data[\"silhouette_score\"])\n"
   ]
  },
  {
   "cell_type": "code",
   "execution_count": 8,
   "metadata": {},
   "outputs": [
    {
     "name": "stdout",
     "output_type": "stream",
     "text": [
      "MMSE mean of each cluster:\n",
      "0    20.957385\n",
      "2    12.664652\n",
      "1     4.583337\n",
      "Name: MMSE, dtype: float64 \n",
      "\n",
      "Silhouette Score: 0.4292872177446522\n"
     ]
    }
   ],
   "source": [
    "cluster_features_2 = [\"MMSE\", \"ADL\",]  # Specify the features for clustering\n",
    "clustered_data_2 = process_cluster(data, cluster_features_2)\n",
    "\n",
    "# Access results\n",
    "print(\"Silhouette Score:\", clustered_data_2[\"silhouette_score\"])\n"
   ]
  },
  {
   "cell_type": "code",
   "execution_count": 9,
   "metadata": {},
   "outputs": [
    {
     "name": "stdout",
     "output_type": "stream",
     "text": [
      "MMSE mean of each cluster:\n",
      "0    21.080635\n",
      "2    12.860176\n",
      "1     4.639195\n",
      "Name: MMSE, dtype: float64 \n",
      "\n",
      "Silhouette Score: 0.4415287253461713\n"
     ]
    }
   ],
   "source": [
    "cluster_features_3 = ['MMSE', 'FunctionalAssessment']\n",
    "clustered_data_3 = process_cluster(data, cluster_features_3)\n",
    "\n",
    "# Access results\n",
    "print(\"Silhouette Score:\", clustered_data_3[\"silhouette_score\"])"
   ]
  },
  {
   "cell_type": "code",
   "execution_count": 10,
   "metadata": {},
   "outputs": [
    {
     "name": "stdout",
     "output_type": "stream",
     "text": [
      "MMSE mean of each cluster:\n",
      "2    20.904580\n",
      "0    12.492109\n",
      "1     4.486073\n",
      "Name: MMSE, dtype: float64 \n",
      "\n",
      "Silhouette Score: 0.5858768435462162\n"
     ]
    }
   ],
   "source": [
    "cluster_features_4 = ['MMSE']\n",
    "clustered_data_4 = process_cluster(data, cluster_features_4)\n",
    "\n",
    "# Access results\n",
    "print(\"Silhouette Score:\", clustered_data_4[\"silhouette_score\"])"
   ]
  },
  {
   "cell_type": "markdown",
   "metadata": {},
   "source": [
    "### Considering Silhouette Score and mean MMSE Scores, Cluster 4 is selected!"
   ]
  }
 ],
 "metadata": {
  "kernelspec": {
   "display_name": "Python 3",
   "language": "python",
   "name": "python3"
  },
  "language_info": {
   "codemirror_mode": {
    "name": "ipython",
    "version": 3
   },
   "file_extension": ".py",
   "mimetype": "text/x-python",
   "name": "python",
   "nbconvert_exporter": "python",
   "pygments_lexer": "ipython3",
   "version": "3.10.12"
  }
 },
 "nbformat": 4,
 "nbformat_minor": 2
}
