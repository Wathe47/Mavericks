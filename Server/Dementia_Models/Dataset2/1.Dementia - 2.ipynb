{
 "cells": [
  {
   "cell_type": "markdown",
   "id": "99ae4799-5cb6-4656-83cf-cad65997eae9",
   "metadata": {},
   "source": [
    "<h1><center>Dementia Disease Prediction - 2 </center></h1>"
   ]
  },
  {
   "cell_type": "markdown",
   "id": "ea316757-89bb-463c-bf66-49dceef660b3",
   "metadata": {},
   "source": [
    "## Reading and understanding the Data"
   ]
  },
  {
   "cell_type": "code",
   "execution_count": 2,
   "id": "8bbaa1d0-6426-473b-8d4d-7fa2266fe8fd",
   "metadata": {},
   "outputs": [
    {
     "name": "stderr",
     "output_type": "stream",
     "text": [
      "/home/wathsalya/.local/lib/python3.10/site-packages/tqdm/auto.py:21: TqdmWarning: IProgress not found. Please update jupyter and ipywidgets. See https://ipywidgets.readthedocs.io/en/stable/user_install.html\n",
      "  from .autonotebook import tqdm as notebook_tqdm\n",
      "[nltk_data] Downloading package stopwords to\n",
      "[nltk_data]     /home/wathsalya/nltk_data...\n",
      "[nltk_data]   Package stopwords is already up-to-date!\n"
     ]
    },
    {
     "data": {
      "text/plain": [
       "True"
      ]
     },
     "execution_count": 2,
     "metadata": {},
     "output_type": "execute_result"
    }
   ],
   "source": [
    "import re\n",
    "import nltk\n",
    "from nltk.corpus import stopwords\n",
    "from transformers import (\n",
    "    BertTokenizer,\n",
    "    BertForSequenceClassification,\n",
    "    Trainer,\n",
    "    TrainingArguments,\n",
    ")\n",
    "from sklearn.model_selection import train_test_split\n",
    "from sklearn.metrics import accuracy_score\n",
    "import pandas as pd\n",
    "import numpy as np\n",
    "import torch\n",
    "from sklearn.metrics import f1_score\n",
    "\n",
    "nltk.download(\"stopwords\")"
   ]
  },
  {
   "cell_type": "code",
   "execution_count": 3,
   "id": "6eb9ce64-d048-4577-899f-335b61bee97b",
   "metadata": {},
   "outputs": [
    {
     "data": {
      "text/html": [
       "<div>\n",
       "<style scoped>\n",
       "    .dataframe tbody tr th:only-of-type {\n",
       "        vertical-align: middle;\n",
       "    }\n",
       "\n",
       "    .dataframe tbody tr th {\n",
       "        vertical-align: top;\n",
       "    }\n",
       "\n",
       "    .dataframe thead th {\n",
       "        text-align: right;\n",
       "    }\n",
       "</style>\n",
       "<table border=\"1\" class=\"dataframe\">\n",
       "  <thead>\n",
       "    <tr style=\"text-align: right;\">\n",
       "      <th></th>\n",
       "      <th>Transcript_CTD</th>\n",
       "      <th>Transcript_PFT</th>\n",
       "      <th>Transcript_SFT</th>\n",
       "      <th>Class_label</th>\n",
       "    </tr>\n",
       "  </thead>\n",
       "  <tbody>\n",
       "    <tr>\n",
       "      <th>0</th>\n",
       "      <td>NaN</td>\n",
       "      <td>Pat: People, partner, plate, platter, pants, p...</td>\n",
       "      <td>Pat: (3 seconds) Giraffe, kangaroo, lion, tige...</td>\n",
       "      <td>1</td>\n",
       "    </tr>\n",
       "    <tr>\n",
       "      <th>1</th>\n",
       "      <td>Pat: (4 seconds) There’s a lad stood on the st...</td>\n",
       "      <td>Pat: (1 second) Pipe, plane, people (5 seconds...</td>\n",
       "      <td>Pat: (1 second) Dogs, cats, birds (1 second) m...</td>\n",
       "      <td>1</td>\n",
       "    </tr>\n",
       "    <tr>\n",
       "      <th>2</th>\n",
       "      <td>Pat: (3 seconds) Um, the picture is of a kitch...</td>\n",
       "      <td>Pat: Um (1 second) purple, pale, placid (1 sec...</td>\n",
       "      <td>Pat: Cow, bull, ewe, ram, chicken, goose, um (...</td>\n",
       "      <td>1</td>\n",
       "    </tr>\n",
       "    <tr>\n",
       "      <th>3</th>\n",
       "      <td>Pat: A mother presumably, or a fe, an adult fe...</td>\n",
       "      <td>Pat: Plank (1 second) pool (1 second) swimming...</td>\n",
       "      <td>Pat: Um (1 second) impala (1 second) er cheeta...</td>\n",
       "      <td>1</td>\n",
       "    </tr>\n",
       "    <tr>\n",
       "      <th>4</th>\n",
       "      <td>Pat: ‘50s style er scene of domestic um confus...</td>\n",
       "      <td>Pat: It’s er pillock, er post box, er Pyracant...</td>\n",
       "      <td>Pat: Dog, cat, giraffe, wallaby, kangaroo, tor...</td>\n",
       "      <td>1</td>\n",
       "    </tr>\n",
       "  </tbody>\n",
       "</table>\n",
       "</div>"
      ],
      "text/plain": [
       "                                      Transcript_CTD  \\\n",
       "0                                                NaN   \n",
       "1  Pat: (4 seconds) There’s a lad stood on the st...   \n",
       "2  Pat: (3 seconds) Um, the picture is of a kitch...   \n",
       "3  Pat: A mother presumably, or a fe, an adult fe...   \n",
       "4  Pat: ‘50s style er scene of domestic um confus...   \n",
       "\n",
       "                                      Transcript_PFT  \\\n",
       "0  Pat: People, partner, plate, platter, pants, p...   \n",
       "1  Pat: (1 second) Pipe, plane, people (5 seconds...   \n",
       "2  Pat: Um (1 second) purple, pale, placid (1 sec...   \n",
       "3  Pat: Plank (1 second) pool (1 second) swimming...   \n",
       "4  Pat: It’s er pillock, er post box, er Pyracant...   \n",
       "\n",
       "                                      Transcript_SFT  Class_label  \n",
       "0  Pat: (3 seconds) Giraffe, kangaroo, lion, tige...            1  \n",
       "1  Pat: (1 second) Dogs, cats, birds (1 second) m...            1  \n",
       "2  Pat: Cow, bull, ewe, ram, chicken, goose, um (...            1  \n",
       "3  Pat: Um (1 second) impala (1 second) er cheeta...            1  \n",
       "4  Pat: Dog, cat, giraffe, wallaby, kangaroo, tor...            1  "
      ]
     },
     "execution_count": 3,
     "metadata": {},
     "output_type": "execute_result"
    }
   ],
   "source": [
    "# Load dataset\n",
    "file_path = \"dementia_dataset_4.csv\"\n",
    "df = pd.read_csv(file_path)\n",
    "\n",
    "df.head()"
   ]
  },
  {
   "cell_type": "code",
   "execution_count": 4,
   "id": "66baf745",
   "metadata": {},
   "outputs": [
    {
     "data": {
      "text/html": [
       "<div>\n",
       "<style scoped>\n",
       "    .dataframe tbody tr th:only-of-type {\n",
       "        vertical-align: middle;\n",
       "    }\n",
       "\n",
       "    .dataframe tbody tr th {\n",
       "        vertical-align: top;\n",
       "    }\n",
       "\n",
       "    .dataframe thead th {\n",
       "        text-align: right;\n",
       "    }\n",
       "</style>\n",
       "<table border=\"1\" class=\"dataframe\">\n",
       "  <thead>\n",
       "    <tr style=\"text-align: right;\">\n",
       "      <th></th>\n",
       "      <th>Transcript_CTD</th>\n",
       "      <th>Transcript_PFT</th>\n",
       "      <th>Transcript_SFT</th>\n",
       "      <th>Class_label</th>\n",
       "    </tr>\n",
       "  </thead>\n",
       "  <tbody>\n",
       "    <tr>\n",
       "      <th>3138</th>\n",
       "      <td>Pat: The sink is overflowing; the woman doing ...</td>\n",
       "      <td>Pat: Um, precise, prescient, er procrastinatio...</td>\n",
       "      <td>Pat: Um, well (buzzer sounds) er cat, dog, rab...</td>\n",
       "      <td>0</td>\n",
       "    </tr>\n",
       "    <tr>\n",
       "      <th>3139</th>\n",
       "      <td>Pat: I see a scene of absolute chaos in this p...</td>\n",
       "      <td>Pat: (Buzzer sounds) Picture, plate, palm, pho...</td>\n",
       "      <td>Pat: Cat, lion, tiger (buzzer sounds) oh. Cat,...</td>\n",
       "      <td>0</td>\n",
       "    </tr>\n",
       "    <tr>\n",
       "      <th>3140</th>\n",
       "      <td>Pat: Little boy falling off a chair whilst pas...</td>\n",
       "      <td>Pat: Countries beginning with P: Paraguay, Por...</td>\n",
       "      <td>Pat: Horse, dog, cat, pig, hen (1 second) walr...</td>\n",
       "      <td>0</td>\n",
       "    </tr>\n",
       "    <tr>\n",
       "      <th>3141</th>\n",
       "      <td>Pat: (3 seconds) Er, little boy stood on a sto...</td>\n",
       "      <td>Pat: Phew, phew, phew (7 seconds) Phidi, Phila...</td>\n",
       "      <td>Pat: Pig, cat, dog (buzzer sounds) pig, cat, d...</td>\n",
       "      <td>1</td>\n",
       "    </tr>\n",
       "    <tr>\n",
       "      <th>3142</th>\n",
       "      <td>Pat: (3 seconds) OK, well there’s a boy stood ...</td>\n",
       "      <td>Pat: (3 seconds) Er (2 seconds) paternity, pet...</td>\n",
       "      <td>Pat: Ooh. Armadillo, antelope, bear, buffalo, ...</td>\n",
       "      <td>0</td>\n",
       "    </tr>\n",
       "  </tbody>\n",
       "</table>\n",
       "</div>"
      ],
      "text/plain": [
       "                                         Transcript_CTD  \\\n",
       "3138  Pat: The sink is overflowing; the woman doing ...   \n",
       "3139  Pat: I see a scene of absolute chaos in this p...   \n",
       "3140  Pat: Little boy falling off a chair whilst pas...   \n",
       "3141  Pat: (3 seconds) Er, little boy stood on a sto...   \n",
       "3142  Pat: (3 seconds) OK, well there’s a boy stood ...   \n",
       "\n",
       "                                         Transcript_PFT  \\\n",
       "3138  Pat: Um, precise, prescient, er procrastinatio...   \n",
       "3139  Pat: (Buzzer sounds) Picture, plate, palm, pho...   \n",
       "3140  Pat: Countries beginning with P: Paraguay, Por...   \n",
       "3141  Pat: Phew, phew, phew (7 seconds) Phidi, Phila...   \n",
       "3142  Pat: (3 seconds) Er (2 seconds) paternity, pet...   \n",
       "\n",
       "                                         Transcript_SFT  Class_label  \n",
       "3138  Pat: Um, well (buzzer sounds) er cat, dog, rab...            0  \n",
       "3139  Pat: Cat, lion, tiger (buzzer sounds) oh. Cat,...            0  \n",
       "3140  Pat: Horse, dog, cat, pig, hen (1 second) walr...            0  \n",
       "3141  Pat: Pig, cat, dog (buzzer sounds) pig, cat, d...            1  \n",
       "3142  Pat: Ooh. Armadillo, antelope, bear, buffalo, ...            0  "
      ]
     },
     "execution_count": 4,
     "metadata": {},
     "output_type": "execute_result"
    }
   ],
   "source": [
    "df.tail()"
   ]
  },
  {
   "cell_type": "code",
   "execution_count": 5,
   "id": "97729bab-df4a-4b91-b400-cef897af77d5",
   "metadata": {},
   "outputs": [
    {
     "data": {
      "text/plain": [
       "(3143, 4)"
      ]
     },
     "execution_count": 5,
     "metadata": {},
     "output_type": "execute_result"
    }
   ],
   "source": [
    "df.shape"
   ]
  },
  {
   "cell_type": "code",
   "execution_count": 6,
   "id": "678e0dae",
   "metadata": {},
   "outputs": [
    {
     "name": "stdout",
     "output_type": "stream",
     "text": [
      "label\n",
      "1    0.503341\n",
      "0    0.496659\n",
      "Name: proportion, dtype: float64\n"
     ]
    }
   ],
   "source": [
    "df[\"label\"] = df[\"Class_label\"]\n",
    "\n",
    "print(df['label'].value_counts(normalize=True))"
   ]
  },
  {
   "cell_type": "code",
   "execution_count": 7,
   "id": "f9fe4a65",
   "metadata": {},
   "outputs": [],
   "source": [
    "# Enhanced text cleaning function\n",
    "def clean_text(text):\n",
    "    text = str(text).lower()\n",
    "    text = re.sub(r\"\\s+\", \" \", text)  # Preserve punctuation\n",
    "    return text.strip()"
   ]
  },
  {
   "cell_type": "code",
   "execution_count": 8,
   "id": "097dc6b3",
   "metadata": {},
   "outputs": [],
   "source": [
    "# Apply cleaning to text column\n",
    "df[\"Transcript_CTD\"] = df[\"Transcript_CTD\"].fillna(\"\").apply(clean_text)\n",
    "df[\"Transcript_PFT\"] = df[\"Transcript_PFT\"].fillna(\"\").apply(clean_text)\n",
    "df[\"Transcript_SFT\"] = df[\"Transcript_SFT\"].fillna(\"\").apply(clean_text)\n"
   ]
  },
  {
   "cell_type": "code",
   "execution_count": 9,
   "id": "6d0ba1cb",
   "metadata": {},
   "outputs": [],
   "source": [
    "# Combine the three text columns\n",
    "df[\"combined_text\"] = (\n",
    "    df[\"Transcript_CTD\"] + \" \" + df[\"Transcript_PFT\"] + \" \" + df[\"Transcript_SFT\"]   \n",
    ")"
   ]
  },
  {
   "cell_type": "code",
   "execution_count": 10,
   "id": "2bc02eeb",
   "metadata": {},
   "outputs": [],
   "source": [
    "# Prepare train-test split\n",
    "train_texts, test_texts, train_labels, test_labels = train_test_split(\n",
    "    df[\"combined_text\"], df[\"label\"], test_size=0.2, random_state=42\n",
    ")\n"
   ]
  },
  {
   "cell_type": "code",
   "execution_count": 11,
   "id": "5fdf358a",
   "metadata": {},
   "outputs": [],
   "source": [
    "# Ensure they are strings\n",
    "train_texts = train_texts.astype(str)\n",
    "test_texts = test_texts.astype(str)"
   ]
  },
  {
   "cell_type": "code",
   "execution_count": 12,
   "id": "c6e3e65f",
   "metadata": {},
   "outputs": [],
   "source": [
    "# Tokenization\n",
    "tokenizer = BertTokenizer.from_pretrained(\"bert-base-uncased\")\n",
    "train_encodings = tokenizer(\n",
    "    list(train_texts), truncation=True, padding=True, max_length=256\n",
    ")\n",
    "test_encodings = tokenizer(\n",
    "    list(test_texts), truncation=True, padding=True, max_length=256\n",
    ")"
   ]
  },
  {
   "cell_type": "code",
   "execution_count": 13,
   "id": "c70edc10",
   "metadata": {},
   "outputs": [],
   "source": [
    "# Dataset Wrapper\n",
    "class DatasetWrapper(torch.utils.data.Dataset):\n",
    "    def __init__(self, encodings, labels):\n",
    "        self.encodings = encodings\n",
    "        self.labels = labels\n",
    "\n",
    "    def __len__(self):\n",
    "        return len(self.labels)\n",
    "\n",
    "    def __getitem__(self, idx):\n",
    "        item = {key: torch.tensor(val[idx]) for key, val in self.encodings.items()}\n",
    "        item[\"labels\"] = torch.tensor(self.labels[idx])\n",
    "        return item"
   ]
  },
  {
   "cell_type": "code",
   "execution_count": 14,
   "id": "d463657e",
   "metadata": {},
   "outputs": [],
   "source": [
    "train_dataset = DatasetWrapper(train_encodings, list(train_labels))\n",
    "test_dataset = DatasetWrapper(test_encodings, list(test_labels))"
   ]
  },
  {
   "cell_type": "code",
   "execution_count": 15,
   "id": "b5ac5f26",
   "metadata": {},
   "outputs": [
    {
     "name": "stderr",
     "output_type": "stream",
     "text": [
      "Some weights of BertForSequenceClassification were not initialized from the model checkpoint at bert-base-uncased and are newly initialized: ['classifier.bias', 'classifier.weight']\n",
      "You should probably TRAIN this model on a down-stream task to be able to use it for predictions and inference.\n"
     ]
    }
   ],
   "source": [
    "# Model\n",
    "model = BertForSequenceClassification.from_pretrained(\"bert-base-uncased\", num_labels=2)\n"
   ]
  },
  {
   "cell_type": "code",
   "execution_count": null,
   "id": "d15c8f82",
   "metadata": {},
   "outputs": [],
   "source": [
    "# Updated training arguments to optimize for the entire dataset\n",
    "training_args = TrainingArguments(\n",
    "    num_train_epochs=4,  # Minimum for meaningful learning\n",
    "    warmup_ratio=0.1,  # 10% of total steps instead of fixed 200\n",
    "    per_device_train_batch_size=8,  # Increase if GPU memory allows\n",
    "    gradient_accumulation_steps=2,\n",
    ")"
   ]
  },
  {
   "cell_type": "code",
   "execution_count": 17,
   "id": "5b05fa8b",
   "metadata": {},
   "outputs": [],
   "source": [
    "# Metric\n",
    "def compute_metrics(eval_pred):\n",
    "    logits, labels = eval_pred\n",
    "    preds = np.argmax(logits, axis=1)\n",
    "    return {\n",
    "        'accuracy': accuracy_score(labels, preds),\n",
    "        'f1_macro': f1_score(labels, preds, average='macro')\n",
    "    }\n"
   ]
  },
  {
   "cell_type": "code",
   "execution_count": 18,
   "id": "914bac5a",
   "metadata": {},
   "outputs": [],
   "source": [
    "# Trainer\n",
    "trainer = Trainer(\n",
    "    model=model,\n",
    "    args=training_args,\n",
    "    train_dataset=train_dataset,\n",
    "    eval_dataset=test_dataset,\n",
    "    compute_metrics=compute_metrics,\n",
    ")\n"
   ]
  },
  {
   "cell_type": "code",
   "execution_count": 19,
   "id": "50b6f08c",
   "metadata": {},
   "outputs": [
    {
     "data": {
      "text/html": [
       "\n",
       "    <div>\n",
       "      \n",
       "      <progress value='628' max='628' style='width:300px; height:20px; vertical-align: middle;'></progress>\n",
       "      [628/628 4:05:30, Epoch 3/4]\n",
       "    </div>\n",
       "    <table border=\"1\" class=\"dataframe\">\n",
       "  <thead>\n",
       " <tr style=\"text-align: left;\">\n",
       "      <th>Step</th>\n",
       "      <th>Training Loss</th>\n",
       "    </tr>\n",
       "  </thead>\n",
       "  <tbody>\n",
       "    <tr>\n",
       "      <td>500</td>\n",
       "      <td>0.367200</td>\n",
       "    </tr>\n",
       "  </tbody>\n",
       "</table><p>"
      ],
      "text/plain": [
       "<IPython.core.display.HTML object>"
      ]
     },
     "metadata": {},
     "output_type": "display_data"
    },
    {
     "data": {
      "text/html": [
       "\n",
       "    <div>\n",
       "      \n",
       "      <progress value='79' max='79' style='width:300px; height:20px; vertical-align: middle;'></progress>\n",
       "      [79/79 05:37]\n",
       "    </div>\n",
       "    "
      ],
      "text/plain": [
       "<IPython.core.display.HTML object>"
      ]
     },
     "metadata": {},
     "output_type": "display_data"
    },
    {
     "name": "stdout",
     "output_type": "stream",
     "text": [
      "Accuracy: 0.9062003179650239\n",
      "Loss: 0.38061755895614624\n"
     ]
    }
   ],
   "source": [
    "# Train\n",
    "trainer.train()\n",
    "\n",
    "# Evaluate\n",
    "results = trainer.evaluate()\n",
    "print(f\"Accuracy: {results['eval_accuracy']}\")\n",
    "print(f\"Loss: {results['eval_loss']}\")\n"
   ]
  },
  {
   "cell_type": "code",
   "execution_count": null,
   "id": "ef44bcfe",
   "metadata": {},
   "outputs": [],
   "source": []
  }
 ],
 "metadata": {
  "kernelspec": {
   "display_name": "Python 3",
   "language": "python",
   "name": "python3"
  },
  "language_info": {
   "codemirror_mode": {
    "name": "ipython",
    "version": 3
   },
   "file_extension": ".py",
   "mimetype": "text/x-python",
   "name": "python",
   "nbconvert_exporter": "python",
   "pygments_lexer": "ipython3",
   "version": "3.10.12"
  }
 },
 "nbformat": 4,
 "nbformat_minor": 5
}
