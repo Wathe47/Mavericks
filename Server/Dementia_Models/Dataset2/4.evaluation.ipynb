{
 "cells": [
  {
   "cell_type": "markdown",
   "id": "99ae4799-5cb6-4656-83cf-cad65997eae9",
   "metadata": {},
   "source": [
    "<h1><center>Evaluation </center></h1>"
   ]
  },
  {
   "cell_type": "code",
   "execution_count": null,
   "id": "8bbaa1d0-6426-473b-8d4d-7fa2266fe8fd",
   "metadata": {},
   "outputs": [],
   "source": [
    "import pandas as pd\n",
    "import torch\n",
    "from sklearn.model_selection import train_test_split\n",
    "from sklearn.metrics import accuracy_score, classification_report\n",
    "from transformers import BertTokenizer, BertForSequenceClassification, Trainer, TrainingArguments\n",
    "from transformers import DataCollatorWithPadding\n",
    "from datasets import Dataset\n",
    "import re\n",
    "import numpy as np\n",
    "from sklearn.metrics import confusion_matrix"
   ]
  },
  {
   "cell_type": "code",
   "execution_count": 17,
   "id": "439af61f",
   "metadata": {},
   "outputs": [],
   "source": [
    "# Load the dataset\n",
    "df = pd.read_csv(\"dementia_dataset_6.csv\")\n",
    "\n",
    "# Ensure Severity is treated as a categorical label\n",
    "df['Severity'] = df['Severity'].astype(int)"
   ]
  },
  {
   "cell_type": "code",
   "execution_count": 18,
   "id": "4ec8e652",
   "metadata": {},
   "outputs": [],
   "source": [
    "# Enhanced text cleaning function\n",
    "def clean_text(text):\n",
    "    text = str(text).lower()\n",
    "    text = re.sub(r\"\\s+\", \" \", text)  # Preserve punctuation\n",
    "    return text.strip()"
   ]
  },
  {
   "cell_type": "code",
   "execution_count": 19,
   "id": "8ef7ed4f",
   "metadata": {},
   "outputs": [],
   "source": [
    "# Apply cleaning to text column\n",
    "df[\"Transcript_CTD\"] = df[\"Transcript_CTD\"].fillna(\"\").apply(clean_text)\n",
    "df[\"Transcript_PFT\"] = df[\"Transcript_PFT\"].fillna(\"\").apply(clean_text)\n",
    "df[\"Transcript_SFT\"] = df[\"Transcript_SFT\"].fillna(\"\").apply(clean_text)\n",
    "\n",
    "# Combine the transcripts into a single text column\n",
    "df['Text'] = df['Transcript_CTD'] + \" \" + df['Transcript_PFT'] + \" \" + df['Transcript_SFT']\n"
   ]
  },
  {
   "cell_type": "code",
   "execution_count": 20,
   "id": "de324f10",
   "metadata": {},
   "outputs": [],
   "source": [
    "# Split the dataset into train and test sets\n",
    "train_texts, test_texts, train_labels, test_labels = train_test_split(\n",
    "    df['Text'], df['Severity'], test_size=0.2, random_state=42\n",
    ")"
   ]
  },
  {
   "cell_type": "code",
   "execution_count": 21,
   "id": "3c4b45b7",
   "metadata": {},
   "outputs": [],
   "source": [
    "# Load the BERT tokenizer\n",
    "tokenizer = BertTokenizer.from_pretrained(\"bert-base-uncased\")\n",
    "\n",
    "# Tokenize the text data\n",
    "train_encodings = tokenizer(list(train_texts), truncation=True, padding=True, max_length=256)\n",
    "test_encodings = tokenizer(list(test_texts), truncation=True, padding=True, max_length=256)\n"
   ]
  },
  {
   "cell_type": "code",
   "execution_count": 22,
   "id": "18e74449",
   "metadata": {},
   "outputs": [],
   "source": [
    "# Convert the data into PyTorch datasets\n",
    "class DementiaDataset(torch.utils.data.Dataset):\n",
    "    def __init__(self, encodings, labels):\n",
    "        self.encodings = encodings\n",
    "        self.labels = labels\n",
    "\n",
    "    def __len__(self):\n",
    "        return len(self.labels)\n",
    "\n",
    "    def __getitem__(self, idx):\n",
    "        item = {key: torch.tensor(val[idx]) for key, val in self.encodings.items()}\n",
    "        item['labels'] = torch.tensor(self.labels[idx])\n",
    "        return item\n"
   ]
  },
  {
   "cell_type": "code",
   "execution_count": 23,
   "id": "40c979a5",
   "metadata": {},
   "outputs": [
    {
     "name": "stderr",
     "output_type": "stream",
     "text": [
      "Some weights of BertForSequenceClassification were not initialized from the model checkpoint at bert-base-uncased and are newly initialized: ['classifier.bias', 'classifier.weight']\n",
      "You should probably TRAIN this model on a down-stream task to be able to use it for predictions and inference.\n"
     ]
    }
   ],
   "source": [
    "train_dataset = DementiaDataset(train_encodings, list(train_labels))\n",
    "test_dataset = DementiaDataset(test_encodings, list(test_labels))\n",
    "\n",
    "# Load the BERT model for multi-class classification\n",
    "model = BertForSequenceClassification.from_pretrained(\"bert-base-uncased\", num_labels=4)  # 4 classes: 0, 1, 2, 3\n"
   ]
  },
  {
   "cell_type": "code",
   "execution_count": 24,
   "id": "bfea32fc",
   "metadata": {},
   "outputs": [],
   "source": [
    "# Define training arguments\n",
    "training_args = TrainingArguments(\n",
    "    num_train_epochs=8,  \n",
    "    warmup_ratio=0.1,  \n",
    "    per_device_train_batch_size=8,  \n",
    "    gradient_accumulation_steps=2,\n",
    "    learning_rate=2e-5,\n",
    ")"
   ]
  },
  {
   "cell_type": "code",
   "execution_count": 25,
   "id": "94e3bae7",
   "metadata": {},
   "outputs": [],
   "source": [
    "# Define a data collator for padding\n",
    "data_collator = DataCollatorWithPadding(tokenizer=tokenizer)\n",
    "\n",
    "# Define the evaluation metric\n",
    "def compute_metrics(eval_pred):\n",
    "    logits, labels = eval_pred\n",
    "    predictions = torch.argmax(torch.tensor(logits), dim=-1)\n",
    "    accuracy = accuracy_score(labels, predictions)\n",
    "    report = classification_report(labels, predictions, output_dict=True)\n",
    "    conf_matrix = confusion_matrix(labels, predictions)\n",
    "    \n",
    "    return {\n",
    "        \"accuracy\": accuracy,\n",
    "        \"classification_report\": report,\n",
    "        \"confusion_matrix\": conf_matrix.tolist()  # Convert to list for JSON serialization\n",
    "    }"
   ]
  },
  {
   "cell_type": "code",
   "execution_count": 26,
   "id": "fcda1b4e",
   "metadata": {},
   "outputs": [
    {
     "name": "stderr",
     "output_type": "stream",
     "text": [
      "/tmp/ipykernel_2386766/3065554055.py:2: FutureWarning: `tokenizer` is deprecated and will be removed in version 5.0.0 for `Trainer.__init__`. Use `processing_class` instead.\n",
      "  trainer = Trainer(\n"
     ]
    }
   ],
   "source": [
    "# Initialize the Trainer\n",
    "trainer = Trainer(\n",
    "    model=model,\n",
    "    args=training_args,\n",
    "    train_dataset=train_dataset,\n",
    "    eval_dataset=test_dataset,\n",
    "    tokenizer=tokenizer,\n",
    "    data_collator=data_collator,\n",
    "    compute_metrics=compute_metrics\n",
    ")"
   ]
  },
  {
   "cell_type": "code",
   "execution_count": 27,
   "id": "33f53249",
   "metadata": {},
   "outputs": [
    {
     "name": "stdout",
     "output_type": "stream",
     "text": [
      "Number of entries per cluster in training:\n",
      "Severity\n",
      "0    288\n",
      "1    210\n",
      "2     81\n",
      "3     41\n",
      "Name: count, dtype: int64\n",
      "Number of entries per cluster in testing:\n",
      "Severity\n",
      "0    72\n",
      "1    56\n",
      "2    18\n",
      "3     9\n",
      "Name: count, dtype: int64\n"
     ]
    }
   ],
   "source": [
    "# Print the number of entries per cluster in training set\n",
    "train_label_counts = pd.Series(train_labels).value_counts()\n",
    "print(\"Number of entries per cluster in training:\")\n",
    "print(train_label_counts)\n",
    "\n",
    "# Print the number of entries per cluster in testing set\n",
    "test_label_counts = pd.Series(test_labels).value_counts()\n",
    "print(\"Number of entries per cluster in testing:\")\n",
    "print(test_label_counts)\n"
   ]
  },
  {
   "cell_type": "code",
   "execution_count": 28,
   "id": "44394568",
   "metadata": {},
   "outputs": [
    {
     "data": {
      "text/html": [
       "\n",
       "    <div>\n",
       "      \n",
       "      <progress value='312' max='312' style='width:300px; height:20px; vertical-align: middle;'></progress>\n",
       "      [312/312 1:41:51, Epoch 8/8]\n",
       "    </div>\n",
       "    <table border=\"1\" class=\"dataframe\">\n",
       "  <thead>\n",
       " <tr style=\"text-align: left;\">\n",
       "      <th>Step</th>\n",
       "      <th>Training Loss</th>\n",
       "    </tr>\n",
       "  </thead>\n",
       "  <tbody>\n",
       "  </tbody>\n",
       "</table><p>"
      ],
      "text/plain": [
       "<IPython.core.display.HTML object>"
      ]
     },
     "metadata": {},
     "output_type": "display_data"
    },
    {
     "data": {
      "text/html": [
       "\n",
       "    <div>\n",
       "      \n",
       "      <progress value='20' max='20' style='width:300px; height:20px; vertical-align: middle;'></progress>\n",
       "      [20/20 02:07]\n",
       "    </div>\n",
       "    "
      ],
      "text/plain": [
       "<IPython.core.display.HTML object>"
      ]
     },
     "metadata": {},
     "output_type": "display_data"
    }
   ],
   "source": [
    "# Train the model\n",
    "trainer.train()\n",
    "\n",
    "# Evaluate the model\n",
    "results = trainer.evaluate()"
   ]
  },
  {
   "cell_type": "code",
   "execution_count": 29,
   "id": "2f5176a8",
   "metadata": {},
   "outputs": [
    {
     "name": "stdout",
     "output_type": "stream",
     "text": [
      "Evaluation Results:\n",
      "{'0': {'precision': 0.9193548387096774, 'recall': 0.7916666666666666, 'f1-score': 0.8507462686567164, 'support': 72.0}, '1': {'precision': 0.8928571428571429, 'recall': 0.8928571428571429, 'f1-score': 0.8928571428571429, 'support': 56.0}, '2': {'precision': 0.48148148148148145, 'recall': 0.7222222222222222, 'f1-score': 0.5777777777777777, 'support': 18.0}, '3': {'precision': 0.6, 'recall': 0.6666666666666666, 'f1-score': 0.631578947368421, 'support': 9.0}, 'accuracy': 0.8129032258064516, 'macro avg': {'precision': 0.7234233657620754, 'recall': 0.7683531746031745, 'f1-score': 0.7382400341650146, 'support': 155.0}, 'weighted avg': {'precision': 0.8403884842178286, 'recall': 0.8129032258064516, 'f1-score': 0.8215351088361251, 'support': 155.0}}\n",
      "\n",
      "Confusion Matrix:\n",
      "[[57, 3, 12, 0], [1, 50, 1, 4], [4, 1, 13, 0], [0, 2, 1, 6]]\n",
      "\n",
      "Accuracy: 0.8129032258064516\n"
     ]
    }
   ],
   "source": [
    "print(\"Evaluation Results:\")\n",
    "print(results[\"eval_classification_report\"])\n",
    "print(\"\\nConfusion Matrix:\")\n",
    "print(results[\"eval_confusion_matrix\"])\n",
    "print(f\"\\nAccuracy: {results['eval_accuracy']}\")\n"
   ]
  },
  {
   "cell_type": "code",
   "execution_count": null,
   "id": "41c26fe0",
   "metadata": {},
   "outputs": [],
   "source": []
  }
 ],
 "metadata": {
  "kernelspec": {
   "display_name": "Python 3",
   "language": "python",
   "name": "python3"
  },
  "language_info": {
   "codemirror_mode": {
    "name": "ipython",
    "version": 3
   },
   "file_extension": ".py",
   "mimetype": "text/x-python",
   "name": "python",
   "nbconvert_exporter": "python",
   "pygments_lexer": "ipython3",
   "version": "3.10.12"
  }
 },
 "nbformat": 4,
 "nbformat_minor": 5
}
