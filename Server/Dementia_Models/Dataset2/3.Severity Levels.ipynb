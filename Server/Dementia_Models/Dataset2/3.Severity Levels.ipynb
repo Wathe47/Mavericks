{
 "cells": [
  {
   "cell_type": "markdown",
   "id": "99ae4799-5cb6-4656-83cf-cad65997eae9",
   "metadata": {},
   "source": [
    "<h1><center>Severity Levels Creation </center></h1>"
   ]
  },
  {
   "cell_type": "code",
   "execution_count": 1,
   "id": "8bbaa1d0-6426-473b-8d4d-7fa2266fe8fd",
   "metadata": {},
   "outputs": [],
   "source": [
    "import pandas as pd\n",
    "import numpy as np\n",
    "from sklearn.preprocessing import StandardScaler\n",
    "from sklearn.cluster import KMeans\n",
    "import matplotlib.pyplot as plt\n",
    "import seaborn as sns\n",
    "from sklearn.metrics import silhouette_score"
   ]
  },
  {
   "cell_type": "code",
   "execution_count": 2,
   "id": "439af61f",
   "metadata": {},
   "outputs": [],
   "source": [
    "# Load the processed train and test datasets\n",
    "df = pd.read_csv(\"dementia_dataset_5.csv\")"
   ]
  },
  {
   "cell_type": "code",
   "execution_count": 3,
   "id": "c0b29fc8",
   "metadata": {},
   "outputs": [
    {
     "data": {
      "text/plain": [
       "(775, 18)"
      ]
     },
     "execution_count": 3,
     "metadata": {},
     "output_type": "execute_result"
    }
   ],
   "source": [
    "df.shape"
   ]
  },
  {
   "cell_type": "code",
   "execution_count": 4,
   "id": "b14f6402",
   "metadata": {},
   "outputs": [],
   "source": [
    "df[\"Disfluency_Ratio\"] = df[\"Pauses\"] / (df[\"Key_Elements_Described\"] + 1)\n",
    "\n",
    "# Small constant to avoid division by zero\n",
    "epsilon = 1e-6\n",
    "# Calculate the composite severity score for each row\n",
    "df[\"Severity_Score\"] = (df[\"Pauses\"] + df[\"Repair_Rate\"] + df[\"Irrelevant_Details\"]) / (\n",
    "    df[\"Parse_Tree_Depth\"] + df[\"Key_Elements_Described\"] + epsilon\n",
    ")\n",
    "\n",
    "df[\"Cognitive_Expression_Score\"] = (\n",
    "    df[\"TTR\"] * 0.1 + df[\"Idea_Density\"] * 0.1 + df[\"Parse_Tree_Depth\"] * 0.05\n",
    ")\n"
   ]
  },
  {
   "cell_type": "code",
   "execution_count": 5,
   "id": "2191df44",
   "metadata": {},
   "outputs": [],
   "source": [
    "selected_features = [\n",
    "    \"Cognitive_Expression_Score\",\n",
    "    \"Disfluency_Ratio\",\n",
    "    \"Severity_Score\",\n",
    "]"
   ]
  },
  {
   "cell_type": "code",
   "execution_count": 6,
   "id": "2f787806",
   "metadata": {},
   "outputs": [],
   "source": [
    "# Filter only dementia patients (Class_label == 1)\n",
    "dementia_df = df[df[\"Class_label\"] == 1].copy()"
   ]
  },
  {
   "cell_type": "code",
   "execution_count": 7,
   "id": "686573b0",
   "metadata": {},
   "outputs": [],
   "source": [
    "X = dementia_df[selected_features]\n",
    "\n",
    "# Scale features\n",
    "scaler = StandardScaler()\n",
    "X_scaled = scaler.fit_transform(X)"
   ]
  },
  {
   "cell_type": "code",
   "execution_count": 8,
   "id": "9ba4dade",
   "metadata": {},
   "outputs": [],
   "source": [
    "# Apply KMeans clustering with 3 clusters\n",
    "kmeans = KMeans(n_clusters=3, random_state=42, n_init=10)\n",
    "dementia_df[\"Severity_Cluster\"] = kmeans.fit_predict(X_scaled)\n"
   ]
  },
  {
   "cell_type": "code",
   "execution_count": 9,
   "id": "9bce3ee5",
   "metadata": {},
   "outputs": [
    {
     "name": "stdout",
     "output_type": "stream",
     "text": [
      "Number of entries per cluster:\n",
      "Severity_Cluster\n",
      "0    266\n",
      "2     99\n",
      "1     50\n",
      "Name: count, dtype: int64\n"
     ]
    }
   ],
   "source": [
    "# Print the number of entries per cluster\n",
    "Severity_counts = dementia_df[\"Severity_Cluster\"].value_counts()\n",
    "print(\"Number of entries per cluster:\")\n",
    "print(Severity_counts)"
   ]
  },
  {
   "cell_type": "code",
   "execution_count": 10,
   "id": "27098344",
   "metadata": {},
   "outputs": [
    {
     "name": "stdout",
     "output_type": "stream",
     "text": [
      "Cluster means (for interpretation):\n",
      "                  Cognitive_Expression_Score  Disfluency_Ratio  Severity_Score\n",
      "Severity_Cluster                                                              \n",
      "0                                   2.388518          0.368421        0.085169\n",
      "1                                   2.289520          8.570000        1.981019\n",
      "2                                   6.600171          0.634680        0.196063\n"
     ]
    }
   ],
   "source": [
    "# Analyze cluster means\n",
    "cluster_means = dementia_df.groupby(\"Severity_Cluster\")[selected_features].mean()\n",
    "print(\"Cluster means (for interpretation):\")\n",
    "print(cluster_means)\n"
   ]
  },
  {
   "cell_type": "code",
   "execution_count": 11,
   "id": "649f4c29",
   "metadata": {},
   "outputs": [],
   "source": [
    "# Map clusters to severity labels (based on feature inspection)\n",
    "# Check the printed means to adjust this mapping as needed!\n",
    "cluster_to_severity = {0: \"1\", 1: \"3\", 2: \"2\"}\n",
    "dementia_df[\"Severity\"] = dementia_df[\"Severity_Cluster\"].map(cluster_to_severity)\n"
   ]
  },
  {
   "cell_type": "code",
   "execution_count": 12,
   "id": "f1612aef",
   "metadata": {},
   "outputs": [],
   "source": [
    "# Combine back with control group\n",
    "control_df = df[df[\"Class_label\"] == 0].copy()\n",
    "control_df[\"Severity\"] = \"0\"\n"
   ]
  },
  {
   "cell_type": "code",
   "execution_count": 13,
   "id": "a5bc35ef",
   "metadata": {},
   "outputs": [],
   "source": [
    "final_df = pd.concat([control_df, dementia_df], ignore_index=True)\n"
   ]
  },
  {
   "cell_type": "code",
   "execution_count": 14,
   "id": "8228738f",
   "metadata": {},
   "outputs": [
    {
     "name": "stdout",
     "output_type": "stream",
     "text": [
      "Silhouette Score: 0.607553743476794\n"
     ]
    }
   ],
   "source": [
    "# Calculate Silhouette Score\n",
    "silhouette_avg = silhouette_score(X_scaled, dementia_df[\"Severity_Cluster\"])\n",
    "print(f\"Silhouette Score: {silhouette_avg}\")"
   ]
  },
  {
   "cell_type": "code",
   "execution_count": 15,
   "id": "35d307ba",
   "metadata": {},
   "outputs": [],
   "source": [
    "final_df.drop(columns=['Class_label','Severity_Cluster','Disfluency_Ratio','Severity_Score','Cognitive_Expression_Score'], inplace=True)\n"
   ]
  },
  {
   "cell_type": "code",
   "execution_count": 16,
   "id": "b21ca91c",
   "metadata": {},
   "outputs": [
    {
     "name": "stdout",
     "output_type": "stream",
     "text": [
      "Train dataset shape: (620, 18)\n",
      "Test dataset shape: (155, 18)\n",
      "Results saved to 'dementia_dataset_6.csv', and 'test_dataset_speech.csv'.\n"
     ]
    }
   ],
   "source": [
    "# Split the final dataset into 80% train and 20% test\n",
    "from sklearn.model_selection import train_test_split\n",
    "\n",
    "# First split to get train (80%) and test (20%)\n",
    "train_df, test_df = train_test_split(final_df, test_size=0.2, random_state=42)\n",
    "\n",
    "# Print the shapes to verify the split\n",
    "print(f\"Train dataset shape: {train_df.shape}\")\n",
    "print(f\"Test dataset shape: {test_df.shape}\")\n",
    "\n",
    "# Save train and test datasets separately\n",
    "train_df.to_csv(\"dementia_dataset_6.csv\", index=False)\n",
    "test_df.to_csv(\"test_dataset_speech.csv\", index=False)\n",
    "\n",
    "print(\"Results saved to 'dementia_dataset_6.csv', and 'test_dataset_speech.csv'.\")"
   ]
  },
  {
   "cell_type": "code",
   "execution_count": 17,
   "id": "9bb856b1",
   "metadata": {},
   "outputs": [
    {
     "name": "stdout",
     "output_type": "stream",
     "text": [
      "Number of entries per cluster:\n",
      "Severity\n",
      "0    360\n",
      "1    266\n",
      "2     99\n",
      "3     50\n",
      "Name: count, dtype: int64\n"
     ]
    }
   ],
   "source": [
    "# Print the number of entries per cluster\n",
    "Severity_counts = final_df[\"Severity\"].value_counts()\n",
    "print(\"Number of entries per cluster:\")\n",
    "print(Severity_counts)"
   ]
  },
  {
   "cell_type": "code",
   "execution_count": null,
   "id": "12aa69b0",
   "metadata": {},
   "outputs": [],
   "source": []
  },
  {
   "cell_type": "code",
   "execution_count": null,
   "id": "337a8c25",
   "metadata": {},
   "outputs": [],
   "source": []
  }
 ],
 "metadata": {
  "kernelspec": {
   "display_name": "Python 3",
   "language": "python",
   "name": "python3"
  },
  "language_info": {
   "codemirror_mode": {
    "name": "ipython",
    "version": 3
   },
   "file_extension": ".py",
   "mimetype": "text/x-python",
   "name": "python",
   "nbconvert_exporter": "python",
   "pygments_lexer": "ipython3",
   "version": "3.10.12"
  }
 },
 "nbformat": 4,
 "nbformat_minor": 5
}
